{
 "cells": [
  {
   "cell_type": "markdown",
   "metadata": {},
   "source": [
    "---\n",
    "# **Predicción sobre la demanda en el servicio Bicing**\n",
    "---\n"
   ]
  },
  {
   "cell_type": "markdown",
   "metadata": {},
   "source": [
    "## **Introducción**"
   ]
  },
  {
   "cell_type": "markdown",
   "metadata": {},
   "source": [
    "El objetivo de este notebook realizado por **Fernando Guirao** y **Nicolás Llorens** es exponer el tema a tratar en el proyecto de la asignatura de APA (Q1 23-24). En este proyecto debe escogerse un conjunto de datos sobre el que reolver un problema de regresión o un problema de clasificación. A continuación explicaremos el problema que queremos resolver, qué datos hemos obtenido y cómo los hemos obtenido, además de un análisis preliminar de los mismos."
   ]
  },
  {
   "cell_type": "markdown",
   "metadata": {},
   "source": [
    "## **¿Qué es Bicing?**"
   ]
  },
  {
   "cell_type": "markdown",
   "metadata": {},
   "source": [
    "**Bicing** es un servicio de alquiler de bicicletas promovido por el Ayuntamiento de Barcelona. Dispone de bicicletas mecánicas y eléctricas que pueden ser recogidas y dejadas en las diferentes estaciones que hay repartidas por la ciudad."
   ]
  },
  {
   "cell_type": "markdown",
   "metadata": {},
   "source": [
    "## **Motivación**\n"
   ]
  },
  {
   "cell_type": "markdown",
   "metadata": {},
   "source": [
    "Muchos estudiantes del Campus Nord usan este servicio para ir y volver de la universidad, pero la alta demanda hace que las estaciones aledañas a menudo queden vacías obligando a muchos a escoger transportes alternativos.\n",
    "\n",
    "Naturalmente el servicio cuenta con remolcadores que reponen bicicletas en las estaciones que se quedan vacías a ciertas horas del día. Pero a veces, quizás esto no es suficiente.\n",
    "\n",
    "Nuestra idea inicial es realizar predicciones sobre la demanda por cada estación en una determinada hora del día. Esta información puede resultar muy valiosa para que , de forma preventiva, se puedan reponer bicicletas en la estación ante horas donde se espera una alta demanda.\n",
    "\n",
    "Concretamente trabajaremos sobre los datos de la estación que se encuentra en la **Calle Jordi Girona, 29**, ya que es la estación que se encuentra justo debajo del campus. No obstante la idea es que este modelo pueda aplicarse a cuqluier estación, siempre y cuando sea entrenado con los datos de esta."
   ]
  },
  {
   "cell_type": "markdown",
   "metadata": {},
   "source": [
    "## **Obtención de los datos, filtrados y modificaciones**"
   ]
  },
  {
   "cell_type": "markdown",
   "metadata": {},
   "source": [
    "Los datos sobre los que trabajaremos se encuentran en el catálogo de datasets de **Open Data BCN**. El [dataset original](https://opendata-ajuntament.barcelona.cat/data/ca/dataset/estat-estacions-bicing) recoge información sobre el estado de **todas** las estaciones a cada momento (cada pocos minutos).\n",
    "\n",
    "Debido al gran tamaño de estos datos (dado que existen más de 500 estaciones), estos se dividen en varios archivos (uno por mes). Estas son las columnas que contiene cada archivo:\n",
    "\n",
    "- **`last_updated`**: Timestamp del archivo.\n",
    "- **`ttl`**: Tiempo de vida de la respuesta.\n",
    "- **`data`**: Contenedor de arrays de información de estaciones.\n",
    "- **`station`**: Array de datos de cada estación.\n",
    "- **`station_id`**: Identificador de la estación.\n",
    "- **`num_bikes_available`**: Número de bicicletas disponibles.\n",
    "- **`num_bikes_available_types`**: Array de tipos de bicicletas disponibles.\n",
    "- **`mechanical`**: Número de bicicletas mecánicas disponibles.\n",
    "- **`ebike`**: Número de bicicletas eléctricas disponibles.\n",
    "- **`num_docks_available`**: Número de anclajes disponibles.\n",
    "- **`is_installed`**: Si la estación está correctamente instalada (0-NO,1-SÍ).\n",
    "- **`is_renting`**: Si la estación está proporcionando bicicletas correctamente.\n",
    "- **`is_returning`**: Si la estación está anclando bicicletas correctamente.\n",
    "- **`last_reported`**: Timestamp de la información de la estación.\n",
    "- **`is_charging_station`**: Si la estación tiene capacidad de carga de bicicletas eléctricas.\n",
    "- **status**: Estado de la estación (IN_SERVICE=En servicio, CLOSED=Cerrada)​​."
   ]
  }
 ],
 "metadata": {
  "language_info": {
   "name": "python"
  }
 },
 "nbformat": 4,
 "nbformat_minor": 2
}
